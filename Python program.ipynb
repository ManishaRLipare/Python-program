{
 "cells": [
  {
   "cell_type": "markdown",
   "id": "26780ebb",
   "metadata": {},
   "source": [
    "###  WAPP to check wheather character is vowels or consonent"
   ]
  },
  {
   "cell_type": "code",
   "execution_count": 10,
   "id": "037311b7",
   "metadata": {},
   "outputs": [
    {
     "name": "stdout",
     "output_type": "stream",
     "text": [
      "Enter a character:m\n",
      "m is consonent\n"
     ]
    }
   ],
   "source": [
    "n = input('Enter a character:')\n",
    "if len(n) == 1:\n",
    "    if n.isalpha():\n",
    "        if n in 'aieouAIEOU':\n",
    "            print(n,'is vowels')\n",
    "        else:\n",
    "            print(n,'is consonent')\n",
    "    else:       \n",
    "        print('Entered value is not a character')\n",
    "else:                \n",
    "    print('Enter a valid single alphabet')\n",
    "    "
   ]
  },
  {
   "cell_type": "markdown",
   "id": "43d742e7",
   "metadata": {},
   "source": [
    "### WAPP to enter any alphabet and check wheather it is in upper case or lower case"
   ]
  },
  {
   "cell_type": "code",
   "execution_count": 15,
   "id": "89f41ec3",
   "metadata": {},
   "outputs": [
    {
     "name": "stdout",
     "output_type": "stream",
     "text": [
      "Enter a character: M\n",
      "M is in a upper case\n"
     ]
    }
   ],
   "source": [
    "a = input('Enter a character: ')\n",
    "if len(a) == 1:\n",
    "    if a.isalpha():\n",
    "        if a.isupper():\n",
    "            print(a,'is in a upper case')\n",
    "        else:\n",
    "            print(a,'is in a lower case')\n",
    "    else:\n",
    "        print('Entered value is not a character')\n",
    "else:\n",
    "    print('Enter a valid single alphabet')\n",
    "        "
   ]
  },
  {
   "cell_type": "markdown",
   "id": "0fbbcc8a",
   "metadata": {},
   "source": [
    "### WAP to print every character of a string entered by the user in a new line using a loop"
   ]
  },
  {
   "cell_type": "code",
   "execution_count": 1,
   "id": "5adafd04",
   "metadata": {},
   "outputs": [
    {
     "name": "stdout",
     "output_type": "stream",
     "text": [
      "Enter a string:manisha lipare\n",
      "m\n",
      "a\n",
      "n\n",
      "i\n",
      "s\n",
      "h\n",
      "a\n",
      " \n",
      "l\n",
      "i\n",
      "p\n",
      "a\n",
      "r\n",
      "e\n"
     ]
    }
   ],
   "source": [
    "s = input('Enter a string:')\n",
    "for i in s:\n",
    "    print(i)"
   ]
  },
  {
   "cell_type": "markdown",
   "id": "3beea5aa",
   "metadata": {},
   "source": [
    "### WAP to find the length of the string with and without using len function"
   ]
  },
  {
   "cell_type": "code",
   "execution_count": 29,
   "id": "1c155c35",
   "metadata": {},
   "outputs": [
    {
     "name": "stdout",
     "output_type": "stream",
     "text": [
      "Enter a string:machine learning\n",
      "16\n",
      "The length of the string is 16\n"
     ]
    }
   ],
   "source": [
    "s = input('Enter a string:')\n",
    "print(len(s))\n",
    "c = 0\n",
    "for i in s:\n",
    "    c+= 1\n",
    "print('The length of the string is',c)    "
   ]
  },
  {
   "cell_type": "markdown",
   "id": "79d1a1dd",
   "metadata": {},
   "source": [
    "### WAP to check if the word 'orange' is present in the string"
   ]
  },
  {
   "cell_type": "code",
   "execution_count": 26,
   "id": "bbec5a42",
   "metadata": {},
   "outputs": [
    {
     "name": "stdout",
     "output_type": "stream",
     "text": [
      "Enter a string:This is orange juice\n",
      "The Orange is not present in a given string\n",
      "The Orange is not present in a given string\n",
      "The Orange is present in a given string\n",
      "The Orange is not present in a given string\n"
     ]
    }
   ],
   "source": [
    "s = input('Enter a string:')\n",
    "l = s.split()\n",
    "for i in l:\n",
    "    if i.lower() == 'orange':\n",
    "        print('The Orange is present in a given string')\n",
    "    else:\n",
    "        print('The Orange is not present in a given string')"
   ]
  },
  {
   "cell_type": "code",
   "execution_count": 28,
   "id": "0f37827f",
   "metadata": {},
   "outputs": [
    {
     "name": "stdout",
     "output_type": "stream",
     "text": [
      "Enter a string:This is Orange juice\n",
      "The Orange is present in a given string Orange\n"
     ]
    }
   ],
   "source": [
    "s = input('Enter a string:')\n",
    "l = s.split()\n",
    "m = ''\n",
    "for i in l:\n",
    "    if i.lower() == 'orange':\n",
    "        m = i\n",
    "        print('The Orange is present in a given string',m)"
   ]
  },
  {
   "cell_type": "code",
   "execution_count": 12,
   "id": "fb9c0a1c",
   "metadata": {},
   "outputs": [
    {
     "name": "stdout",
     "output_type": "stream",
     "text": [
      "Enter a string:manisha lipare\n"
     ]
    }
   ],
   "source": [
    "s = input('Enter a string:')\n",
    "l = s.split()\n",
    "m = ''\n",
    "for i in l:\n",
    "    if i.lower() == 'orange':\n",
    "        m = i\n",
    "        print('The Orange is present in a given string',m)"
   ]
  },
  {
   "cell_type": "markdown",
   "id": "8393bf5c",
   "metadata": {},
   "source": [
    "### WAP to find the number of vowels, consonants, digit and white space characters in a string"
   ]
  },
  {
   "cell_type": "code",
   "execution_count": 21,
   "id": "8af09a5f",
   "metadata": {},
   "outputs": [
    {
     "name": "stdout",
     "output_type": "stream",
     "text": [
      "Enter a string:manisha rakesh lipare 1234567\n",
      "The number of Vowels- 8 consonant- 11 digit- 7 & white space- 3\n"
     ]
    }
   ],
   "source": [
    "s = input('Enter a string:')\n",
    "vowels = ['A','I','E','O','U','a','i','e','o','u']\n",
    "v = 0\n",
    "c = 0\n",
    "d = 0\n",
    "w = 0\n",
    "for i in s:\n",
    "    if i.isdigit():\n",
    "        d+= 1\n",
    "    elif i == ' ':\n",
    "        w+= 1\n",
    "    elif i in vowels:\n",
    "        v = v+1\n",
    "    else:\n",
    "        c+=1  \n",
    "print('The number of Vowels-',v,'consonant-',c,'digit-',d,'& white space-',w)        "
   ]
  },
  {
   "cell_type": "markdown",
   "id": "4d69e30a",
   "metadata": {},
   "source": [
    "### WAP to count Uppercase,lowercase,special character and numeric values in a given string"
   ]
  },
  {
   "cell_type": "code",
   "execution_count": 24,
   "id": "27fde1d6",
   "metadata": {},
   "outputs": [
    {
     "name": "stdout",
     "output_type": "stream",
     "text": [
      "Enter a string:MaNisHa$$LipaRe&&@@1234567\n",
      "The number of numeric value- 7 Uppercase- 5 Lowercase- 8 & Special char- 6\n"
     ]
    }
   ],
   "source": [
    "s = input('Enter a string:')\n",
    "n = 0\n",
    "u = 0\n",
    "l = 0\n",
    "sp = 0\n",
    "\n",
    "for i in s:\n",
    "    if i.isnumeric():\n",
    "        n+= 1\n",
    "    elif i.isupper():\n",
    "        u+=1\n",
    "    elif i.islower():\n",
    "        l+=1\n",
    "    else:\n",
    "        sp+=1\n",
    "        \n",
    "print('The number of numeric value-',n,'Uppercase-',u,'Lowercase-',l,'& Special char-',sp) "
   ]
  },
  {
   "cell_type": "markdown",
   "id": "740f8c9a",
   "metadata": {},
   "source": [
    "### WAP to make a new string with all the consonants deleted from the string"
   ]
  },
  {
   "cell_type": "code",
   "execution_count": 25,
   "id": "bf373d5e",
   "metadata": {},
   "outputs": [
    {
     "name": "stdout",
     "output_type": "stream",
     "text": [
      "Enter a string:'Hello,have a good day'\n",
      "The new string with all the consonants deleted from the string: eoaeaooa\n"
     ]
    }
   ],
   "source": [
    "s = input('Enter a string:')\n",
    "vowels = ['A','I','E','O','U','a','i','e','o','u']\n",
    "m =''\n",
    "for i in s:\n",
    "    if i in vowels:\n",
    "        m = m+i\n",
    "print('The new string with all the consonants deleted from the string:',m)        \n",
    "    "
   ]
  },
  {
   "cell_type": "markdown",
   "id": "ffa1b52d",
   "metadata": {},
   "source": [
    "### WAP to remove the nth index character from a non empty string"
   ]
  },
  {
   "cell_type": "code",
   "execution_count": 12,
   "id": "4ebcab5d",
   "metadata": {},
   "outputs": [
    {
     "name": "stdout",
     "output_type": "stream",
     "text": [
      "Enter a string:manisha\n",
      "manish"
     ]
    }
   ],
   "source": [
    "s = input('Enter a string:')\n",
    "n = len(s)\n",
    "\n",
    "for i in s:\n",
    "    if n > 1:\n",
    "        print(i,end='')\n",
    "        n-=1\n"
   ]
  },
  {
   "cell_type": "markdown",
   "id": "3f4b04d8",
   "metadata": {},
   "source": [
    "### WAP to change a given string to new string where the first and last characters have been exchanged"
   ]
  },
  {
   "cell_type": "code",
   "execution_count": 38,
   "id": "efdaba22",
   "metadata": {},
   "outputs": [
    {
     "name": "stdout",
     "output_type": "stream",
     "text": [
      "Enter a string:manisha lipare\n",
      "eanisha liparm\n"
     ]
    }
   ],
   "source": [
    "s = input('Enter a string:')\n",
    "l = []\n",
    "l.extend(s)\n",
    "temp = l[0]\n",
    "l[0] = l[-1]\n",
    "l[-1] = temp\n",
    "print(''.join(l))"
   ]
  },
  {
   "cell_type": "code",
   "execution_count": 37,
   "id": "4c009f25",
   "metadata": {},
   "outputs": [
    {
     "name": "stdout",
     "output_type": "stream",
     "text": [
      "Enter a string:Anvita Lipare\n",
      "envita LiparA\n"
     ]
    }
   ],
   "source": [
    "s = input('Enter a string:')\n",
    "print(s[-1]+s[1:-1]+s[0])"
   ]
  },
  {
   "cell_type": "markdown",
   "id": "ef612263",
   "metadata": {},
   "source": [
    "### WAP to count the occurence of each word in a given sentence"
   ]
  },
  {
   "cell_type": "code",
   "execution_count": 39,
   "id": "44ae57e0",
   "metadata": {},
   "outputs": [
    {
     "name": "stdout",
     "output_type": "stream",
     "text": [
      "Enter a string:'Hello,have a good day'\n",
      "Enter a single word:good\n",
      "The occurence of the given word - 1\n"
     ]
    }
   ],
   "source": [
    "s = input('Enter a string:')\n",
    "w = input('Enter a single word:')\n",
    "l = s.split()\n",
    "word = 0\n",
    "for i in l:\n",
    "    if w == i:\n",
    "        word+=1\n",
    "print('The occurence of the given word -',word)        \n"
   ]
  },
  {
   "cell_type": "code",
   "execution_count": 40,
   "id": "f03991d9",
   "metadata": {},
   "outputs": [
    {
     "name": "stdout",
     "output_type": "stream",
     "text": [
      "Enter a string:'Hello,have a good day'\n",
      "Enter a single word:Anvi\n",
      "The occurence of the given word - 0\n"
     ]
    }
   ],
   "source": [
    "s = input('Enter a string:')\n",
    "w = input('Enter a single word:')\n",
    "l = s.split()\n",
    "word = 0\n",
    "for i in l:\n",
    "    if w == i:\n",
    "        word+=1\n",
    "print('The occurence of the given word -',word)"
   ]
  },
  {
   "cell_type": "markdown",
   "id": "2c39a5a0",
   "metadata": {},
   "source": [
    "### WAP to count the occurence of a given character in astring"
   ]
  },
  {
   "cell_type": "code",
   "execution_count": 44,
   "id": "83f568fe",
   "metadata": {},
   "outputs": [
    {
     "name": "stdout",
     "output_type": "stream",
     "text": [
      "Enter a string:machine learning\n",
      "{'m': 1, 'a': 2, 'c': 1, 'h': 1, 'i': 2, 'n': 3, 'e': 2, ' ': 1, 'l': 1, 'r': 1, 'g': 1}\n"
     ]
    }
   ],
   "source": [
    "s = input('Enter a string:')\n",
    "print({i:s.count(i) for i in s})"
   ]
  },
  {
   "cell_type": "code",
   "execution_count": 45,
   "id": "995e1f71",
   "metadata": {},
   "outputs": [
    {
     "name": "stdout",
     "output_type": "stream",
     "text": [
      "Enter a string:machine learning\n",
      "Enter a single character:e\n",
      "The occurence of the given character - 2\n"
     ]
    }
   ],
   "source": [
    "s = input('Enter a string:')\n",
    "c = input('Enter a single character:')\n",
    "count = 0\n",
    "for i in s:\n",
    "    if i == c:\n",
    "        count+=1\n",
    "print('The occurence of the given character -',count)"
   ]
  },
  {
   "cell_type": "markdown",
   "id": "536bdfeb",
   "metadata": {},
   "source": [
    "### WAP to find last 10 character of a string"
   ]
  },
  {
   "cell_type": "code",
   "execution_count": 53,
   "id": "8bf52127",
   "metadata": {},
   "outputs": [
    {
     "name": "stdout",
     "output_type": "stream",
     "text": [
      "Enter a string:Python is a case sensitive language\n",
      "e language\n"
     ]
    }
   ],
   "source": [
    "s = input('Enter a string:')\n",
    "print(s[-10:])"
   ]
  },
  {
   "cell_type": "markdown",
   "id": "729c41c8",
   "metadata": {},
   "source": [
    "### WAP to convert a given string to all uppercase if it contains at least 2 uppercase character in the first 4 character"
   ]
  },
  {
   "cell_type": "code",
   "execution_count": 67,
   "id": "35fbbc27",
   "metadata": {},
   "outputs": [
    {
     "name": "stdout",
     "output_type": "stream",
     "text": [
      "Enter a string:PYThon is a case sensitive language\n",
      "3\n",
      "PYTHON IS A CASE SENSITIVE LANGUAGE\n"
     ]
    }
   ],
   "source": [
    "s = input('Enter a string:')\n",
    "c = 0\n",
    "for i in s[:4]:\n",
    "    if i.isupper():\n",
    "        c+=1\n",
    "print(c)\n",
    "if c >= 2:\n",
    "    print(s.upper())\n",
    "else:\n",
    "    print('The first 2 character is not in uppencase')\n",
    "    "
   ]
  },
  {
   "cell_type": "markdown",
   "id": "adce63f8",
   "metadata": {},
   "source": [
    "### WAP to find the first repeated character in a given string"
   ]
  },
  {
   "cell_type": "code",
   "execution_count": 4,
   "id": "758fabdc",
   "metadata": {},
   "outputs": [
    {
     "name": "stdout",
     "output_type": "stream",
     "text": [
      "Enter a string:ManishaM\n",
      "The first repeated character in a string M\n"
     ]
    }
   ],
   "source": [
    "s = input('Enter a string:')\n",
    "count = 0\n",
    "for i in s[1:]:\n",
    "    if i == s[0]:\n",
    "        count+=1\n",
    "        \n",
    "print('The first repeated character in a string',s[0])    "
   ]
  },
  {
   "cell_type": "code",
   "execution_count": 8,
   "id": "1760fbe2",
   "metadata": {},
   "outputs": [
    {
     "name": "stdout",
     "output_type": "stream",
     "text": [
      "Enter a string:Manisha Lipare\n",
      "The first repeated character in a string a\n"
     ]
    }
   ],
   "source": [
    "s = input('Enter a string:')\n",
    "c = ''\n",
    "for i in range(0,len(s)):\n",
    "    for j in range(i+1,len(s)):\n",
    "        if (s[i]==s[j] and s[i]!=''):\n",
    "            c = s[i]\n",
    "            break\n",
    "print('The first repeated character in a string',c)   "
   ]
  },
  {
   "cell_type": "markdown",
   "id": "8442cef4",
   "metadata": {},
   "source": [
    "### WAP to count even and odd numbers in a string"
   ]
  },
  {
   "cell_type": "code",
   "execution_count": 11,
   "id": "4075d5a9",
   "metadata": {},
   "outputs": [
    {
     "name": "stdout",
     "output_type": "stream",
     "text": [
      "Enter how many number you want:9\n",
      "Enter a number:1\n",
      "Enter a number:22\n",
      "Enter a number:11\n",
      "Enter a number:4\n",
      "Enter a number:7\n",
      "Enter a number:9\n",
      "Enter a number:15\n",
      "Enter a number:18\n",
      "Enter a number:10\n",
      "The count of even number is 4 and odd number 5\n"
     ]
    }
   ],
   "source": [
    "s = int(input('Enter how many number you want:'))\n",
    "e = 0\n",
    "o = 0\n",
    "for i in range(1,s+1):\n",
    "    num = int(input('Enter a number:'))\n",
    "    if num%2==0:\n",
    "        e+=1\n",
    "    else:\n",
    "        o+=1\n",
    "print('The count of even number is',e,'and odd number',o)        \n",
    "        "
   ]
  },
  {
   "cell_type": "markdown",
   "id": "2bf1fe34",
   "metadata": {},
   "source": [
    "### WAP to remove the characters which have odd index values of a given string"
   ]
  },
  {
   "cell_type": "code",
   "execution_count": 16,
   "id": "ec424eec",
   "metadata": {},
   "outputs": [
    {
     "name": "stdout",
     "output_type": "stream",
     "text": [
      "Enter a string:manisha lipare\n",
      "aih iae"
     ]
    }
   ],
   "source": [
    "s = input('Enter a string:')\n",
    "for i in s[1::2]:\n",
    "    print(i,end='')  "
   ]
  },
  {
   "cell_type": "markdown",
   "id": "1d634b2d",
   "metadata": {},
   "source": [
    "### Python function to reverses a string if its length is a multiple of 5"
   ]
  },
  {
   "cell_type": "code",
   "execution_count": 19,
   "id": "b53f8635",
   "metadata": {},
   "outputs": [
    {
     "name": "stdout",
     "output_type": "stream",
     "text": [
      "Enter a string:manis\n",
      "sinam\n",
      "sinam\n"
     ]
    }
   ],
   "source": [
    "s = input('Enter a string:')\n",
    "def mul(n):\n",
    "    if len(s)%5 == 0:\n",
    "        print(s[::-1])\n",
    "\n",
    "mul(s)\n",
    "\n",
    "  \n",
    "    "
   ]
  },
  {
   "cell_type": "code",
   "execution_count": 1,
   "id": "04a2ae16",
   "metadata": {},
   "outputs": [
    {
     "name": "stdout",
     "output_type": "stream",
     "text": [
      "Enter number5\n",
      "1\n",
      "2\n",
      "3\n",
      "4\n",
      "5\n"
     ]
    }
   ],
   "source": [
    "n = int(input('Enter number'))\n",
    "i = 1\n",
    "while i<=n:\n",
    "    print(i)\n",
    "    i+=1"
   ]
  },
  {
   "cell_type": "code",
   "execution_count": 20,
   "id": "7eedb415",
   "metadata": {},
   "outputs": [
    {
     "name": "stdout",
     "output_type": "stream",
     "text": [
      "Enter a number:100\n",
      "2500\n"
     ]
    }
   ],
   "source": [
    "s = 0\n",
    "num = int(input('Enter a number:'))\n",
    "for i in range(1,num+1,2):\n",
    "    s = s + i\n",
    "    \n",
    "    \n",
    "    \n",
    "print(s)    "
   ]
  },
  {
   "cell_type": "code",
   "execution_count": 21,
   "id": "12750788",
   "metadata": {},
   "outputs": [
    {
     "name": "stdout",
     "output_type": "stream",
     "text": [
      "Enter a list:[20,80,70,90]\n",
      "90\n"
     ]
    }
   ],
   "source": [
    "l = eval(input('Enter a list:'))\n",
    "print(max(l,key=lambda value:int(value)))"
   ]
  },
  {
   "cell_type": "code",
   "execution_count": 26,
   "id": "31084695",
   "metadata": {},
   "outputs": [
    {
     "name": "stdout",
     "output_type": "stream",
     "text": [
      "Enter a number:23\n",
      "Enter a number:45\n",
      "Enter a number:10\n",
      "45\n"
     ]
    }
   ],
   "source": [
    "from functools import reduce\n",
    "n1 = int(input('Enter a number:'))\n",
    "n2 = int(input('Enter a number:'))\n",
    "n3 = int(input('Enter a number:'))\n",
    "l =[n1,n2,n3]\n",
    "print(reduce(lambda x,y:max(x,y),l))"
   ]
  },
  {
   "cell_type": "markdown",
   "id": "cc61b3ec",
   "metadata": {},
   "source": [
    "### To format a number with a percentage ex.5%"
   ]
  },
  {
   "cell_type": "code",
   "execution_count": 11,
   "id": "3db0bf07",
   "metadata": {},
   "outputs": [
    {
     "name": "stdout",
     "output_type": "stream",
     "text": [
      "Enter a number:0.05\n",
      "5 %\n"
     ]
    }
   ],
   "source": [
    "n = float(input('Enter a number:'))\n",
    "n = round(n*100)\n",
    "print(n,'%')"
   ]
  },
  {
   "cell_type": "markdown",
   "id": "0ff30125",
   "metadata": {},
   "source": [
    "### WAP to reverse words in a string"
   ]
  },
  {
   "cell_type": "code",
   "execution_count": 16,
   "id": "05e5b6fe",
   "metadata": {},
   "outputs": [
    {
     "name": "stdout",
     "output_type": "stream",
     "text": [
      "Enter a string:manisha rakesh lipare\n",
      "['lipare', 'rakesh', 'manisha']\n"
     ]
    }
   ],
   "source": [
    "n = input('Enter a string:')\n",
    "l = n.split()\n",
    "print(l[::-1])"
   ]
  },
  {
   "cell_type": "code",
   "execution_count": 18,
   "id": "0a146186",
   "metadata": {},
   "outputs": [
    {
     "name": "stdout",
     "output_type": "stream",
     "text": [
      "Enter a string:manisha lipare\n",
      "ahsinam\n",
      "erapil\n"
     ]
    }
   ],
   "source": [
    "n = input('Enter a string:')\n",
    "l = n.split()\n",
    "for i in l:\n",
    "    print(i[::-1])"
   ]
  },
  {
   "cell_type": "code",
   "execution_count": 26,
   "id": "a4f8159a",
   "metadata": {},
   "outputs": [
    {
     "name": "stdout",
     "output_type": "stream",
     "text": [
      "Enter a string:manisha rakesh lipare\n",
      "erapil hsekar ahsinam "
     ]
    }
   ],
   "source": [
    "n = input('Enter a string:')\n",
    "l = n.split()\n",
    "l = l[::-1]\n",
    "for i in l:\n",
    "    print(i[::-1], end =' ')"
   ]
  },
  {
   "cell_type": "markdown",
   "id": "0434216b",
   "metadata": {},
   "source": [
    "### WAP to swap case of a given string"
   ]
  },
  {
   "cell_type": "code",
   "execution_count": 25,
   "id": "5c2cfc15",
   "metadata": {},
   "outputs": [
    {
     "name": "stdout",
     "output_type": "stream",
     "text": [
      "Enter a string:MAnIshA\n",
      "maNiSHa\n"
     ]
    }
   ],
   "source": [
    "s = input('Enter a string:')\n",
    "print(s.swapcase())"
   ]
  },
  {
   "cell_type": "markdown",
   "id": "fab068f5",
   "metadata": {},
   "source": [
    "### WAP to remove spaces from a string"
   ]
  },
  {
   "cell_type": "code",
   "execution_count": 28,
   "id": "d1468916",
   "metadata": {},
   "outputs": [
    {
     "name": "stdout",
     "output_type": "stream",
     "text": [
      "Enter a string:manisha lipare\n",
      "manishalipare"
     ]
    }
   ],
   "source": [
    "s = input('Enter a string:')\n",
    "l = s.split()\n",
    "for i in l:\n",
    "    print(i,end='')"
   ]
  },
  {
   "cell_type": "markdown",
   "id": "8fa73c17",
   "metadata": {},
   "source": [
    "### To remove duplicates characters of a string\n"
   ]
  },
  {
   "cell_type": "code",
   "execution_count": 38,
   "id": "f76fb89e",
   "metadata": {},
   "outputs": [
    {
     "name": "stdout",
     "output_type": "stream",
     "text": [
      "Enter a string:mmmmaaannnuuu\n",
      "['m', 'm', 'm', 'm', 'a', 'a', 'a', 'n', 'n', 'n', 'u', 'u', 'u']\n",
      "manu\n"
     ]
    }
   ],
   "source": [
    "s = input('Enter a string:')\n",
    "m = []\n",
    "m.extend(s)\n",
    "print(m)\n",
    "n = []\n",
    "for i in m:\n",
    "    if i not in n:\n",
    "        n.append(i)\n",
    "\n",
    "print(''.join(n))\n",
    "        "
   ]
  },
  {
   "cell_type": "code",
   "execution_count": 39,
   "id": "18f3df40",
   "metadata": {},
   "outputs": [
    {
     "name": "stdout",
     "output_type": "stream",
     "text": [
      "Enter a list:[10,10,20,30,30,70,70]\n",
      "[10, 20, 30, 70]\n"
     ]
    }
   ],
   "source": [
    "l = eval(input('Enter a list:'))\n",
    "l1 = []\n",
    "for i in l:\n",
    "    if i not in l1:\n",
    "        l1.append(i)\n",
    "\n",
    "print(l1)        \n"
   ]
  },
  {
   "cell_type": "code",
   "execution_count": 41,
   "id": "b7ab10bd",
   "metadata": {},
   "outputs": [
    {
     "name": "stdout",
     "output_type": "stream",
     "text": [
      "Enter a string:mmmmmaaaannnn\n",
      "{'m', 'n', 'a'}\n"
     ]
    }
   ],
   "source": [
    "s = input('Enter a string:')\n",
    "print(set(s))"
   ]
  },
  {
   "cell_type": "code",
   "execution_count": 42,
   "id": "a35bc242",
   "metadata": {},
   "outputs": [
    {
     "name": "stdout",
     "output_type": "stream",
     "text": [
      "Enter a string:[1,1,1,2,2,3]\n",
      "{1, 2, 3}\n"
     ]
    }
   ],
   "source": [
    "s = eval(input('Enter a string:'))\n",
    "print(set(s))"
   ]
  },
  {
   "cell_type": "markdown",
   "id": "8e5ce600",
   "metadata": {},
   "source": [
    "### To find the  area of circle"
   ]
  },
  {
   "cell_type": "code",
   "execution_count": 43,
   "id": "fd7a3107",
   "metadata": {},
   "outputs": [
    {
     "name": "stdout",
     "output_type": "stream",
     "text": [
      "Enter a radius of circle:2\n",
      "The area of circle is: 12.56\n"
     ]
    }
   ],
   "source": [
    "r = int(input('Enter a radius of circle:'))\n",
    "a = 3.14*r*r\n",
    "print('The area of circle is:',a)"
   ]
  },
  {
   "cell_type": "markdown",
   "id": "e1095f73",
   "metadata": {},
   "source": [
    "### to find sum of square of first n natural number"
   ]
  },
  {
   "cell_type": "code",
   "execution_count": 48,
   "id": "36277373",
   "metadata": {},
   "outputs": [
    {
     "name": "stdout",
     "output_type": "stream",
     "text": [
      "Enter a number:10\n",
      "Square of 1 is 1\n",
      "Square of 2 is 4\n",
      "Square of 3 is 9\n",
      "Square of 4 is 16\n",
      "Square of 5 is 25\n",
      "Square of 6 is 36\n",
      "Square of 7 is 49\n",
      "Square of 8 is 64\n",
      "Square of 9 is 81\n",
      "Square of 10 is 100\n",
      "The sum of square of 10 numbers is - 385\n"
     ]
    }
   ],
   "source": [
    "n = int(input('Enter a number:'))\n",
    "i = 1\n",
    "sum = 0\n",
    "for j in range(n):\n",
    "    m = i*i\n",
    "    print('Square of',i,'is',m)\n",
    "    sum+=m\n",
    "    i+=1\n",
    "    \n",
    "print('The sum of square of',n,'numbers is -',sum)    "
   ]
  },
  {
   "cell_type": "code",
   "execution_count": 51,
   "id": "073d0500",
   "metadata": {},
   "outputs": [
    {
     "name": "stdout",
     "output_type": "stream",
     "text": [
      "Enter a number:10\n",
      "Square of 1 is 1\n",
      "Square of 2 is 4\n",
      "Square of 3 is 9\n",
      "Square of 4 is 16\n",
      "Square of 5 is 25\n",
      "Square of 6 is 36\n",
      "Square of 7 is 49\n",
      "Square of 8 is 64\n",
      "Square of 9 is 81\n",
      "Square of 10 is 100\n",
      "The sum of square of 10 numbers is - 385\n"
     ]
    }
   ],
   "source": [
    "n = int(input('Enter a number:'))\n",
    "sum = 0\n",
    "for i in range(1,n+1):\n",
    "    m = i*i\n",
    "    print('Square of',i,'is',m)\n",
    "    sum+=m\n",
    "     \n",
    "print('The sum of square of',n,'numbers is -',sum)  "
   ]
  },
  {
   "cell_type": "markdown",
   "id": "a9b04f49",
   "metadata": {},
   "source": [
    "###  To find sum of cube of first n natural numbers"
   ]
  },
  {
   "cell_type": "code",
   "execution_count": 52,
   "id": "a62600eb",
   "metadata": {},
   "outputs": [
    {
     "name": "stdout",
     "output_type": "stream",
     "text": [
      "Enter a number:10\n",
      "Cube of 1 is 1\n",
      "Cube of 2 is 8\n",
      "Cube of 3 is 27\n",
      "Cube of 4 is 64\n",
      "Cube of 5 is 125\n",
      "Cube of 6 is 216\n",
      "Cube of 7 is 343\n",
      "Cube of 8 is 512\n",
      "Cube of 9 is 729\n",
      "Cube of 10 is 1000\n",
      "The sum of cube of 10 numbers is - 3025\n"
     ]
    }
   ],
   "source": [
    "n = int(input('Enter a number:'))\n",
    "sum = 0\n",
    "for i in range(1,n+1):\n",
    "    m = i**3\n",
    "    print('Cube of',i,'is',m)\n",
    "    sum+=m\n",
    "     \n",
    "print('The sum of cube of',n,'numbers is -',sum)  "
   ]
  },
  {
   "cell_type": "markdown",
   "id": "462ae356",
   "metadata": {},
   "source": [
    "### To calculate simple interest"
   ]
  },
  {
   "cell_type": "code",
   "execution_count": 55,
   "id": "b3f46c47",
   "metadata": {},
   "outputs": [
    {
     "name": "stdout",
     "output_type": "stream",
     "text": [
      "The principal is:200000\n",
      "The time period is:5\n",
      "The rate of interest is:5\n",
      "The simple interest is: 50000.0\n"
     ]
    }
   ],
   "source": [
    "p = int(input('The principal is:'))\n",
    "t = int(input('The time period is:'))\n",
    "r = int(input('The rate of interest is:'))\n",
    "si = (p*t*r)/100\n",
    "print('The simple interest is:',si)"
   ]
  },
  {
   "cell_type": "markdown",
   "id": "63c3ae20",
   "metadata": {},
   "source": [
    "### To calculate compound interest"
   ]
  },
  {
   "cell_type": "code",
   "execution_count": 62,
   "id": "0ef465a6",
   "metadata": {},
   "outputs": [
    {
     "name": "stdout",
     "output_type": "stream",
     "text": [
      "The principal is:10000\n",
      "The time period is:5\n",
      "The rate of interest is:10.25\n",
      "The compound interest is: 6288.946267774416\n"
     ]
    }
   ],
   "source": [
    "p = float(input('The principal is:'))\n",
    "t = float(input('The time period is:'))\n",
    "r = float(input('The rate of interest is:'))\n",
    "amt = p*((1+(r/100))**t)\n",
    "ci = amt - p\n",
    "print('The compound interest is:',ci)"
   ]
  },
  {
   "cell_type": "markdown",
   "id": "071c312e",
   "metadata": {},
   "source": [
    "### To find out number is prime or not"
   ]
  },
  {
   "cell_type": "code",
   "execution_count": 69,
   "id": "090b44e4",
   "metadata": {},
   "outputs": [
    {
     "name": "stdout",
     "output_type": "stream",
     "text": [
      "Enter a number:13\n",
      "13 is a prime number\n"
     ]
    }
   ],
   "source": [
    "n = int(input('Enter a number:'))\n",
    "if n>1:\n",
    "    for i in range(2,int(n/2)+1):\n",
    "        if (n % i) == 0:\n",
    "            print(n,'is not a prime number')\n",
    "            break\n",
    "    else:\n",
    "        print(n,'is a prime number')\n",
    "else:\n",
    "    print(n,'is not a prime number')\n"
   ]
  },
  {
   "cell_type": "code",
   "execution_count": null,
   "id": "07a756d3",
   "metadata": {},
   "outputs": [],
   "source": []
  }
 ],
 "metadata": {
  "kernelspec": {
   "display_name": "Python 3 (ipykernel)",
   "language": "python",
   "name": "python3"
  },
  "language_info": {
   "codemirror_mode": {
    "name": "ipython",
    "version": 3
   },
   "file_extension": ".py",
   "mimetype": "text/x-python",
   "name": "python",
   "nbconvert_exporter": "python",
   "pygments_lexer": "ipython3",
   "version": "3.9.12"
  }
 },
 "nbformat": 4,
 "nbformat_minor": 5
}
